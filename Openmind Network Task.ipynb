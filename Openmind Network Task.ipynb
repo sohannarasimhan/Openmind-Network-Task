{
 "cells": [
  {
   "cell_type": "code",
   "execution_count": 117,
   "metadata": {},
   "outputs": [],
   "source": [
    "import pandas as pd\n",
    "import seaborn as sns"
   ]
  },
  {
   "cell_type": "code",
   "execution_count": 118,
   "metadata": {},
   "outputs": [],
   "source": [
    "df=pd.read_excel('Test Data 190421.xlsx',sheet_name='Test Data 190421')"
   ]
  },
  {
   "cell_type": "code",
   "execution_count": 119,
   "metadata": {},
   "outputs": [
    {
     "data": {
      "text/html": [
       "<div>\n",
       "<style scoped>\n",
       "    .dataframe tbody tr th:only-of-type {\n",
       "        vertical-align: middle;\n",
       "    }\n",
       "\n",
       "    .dataframe tbody tr th {\n",
       "        vertical-align: top;\n",
       "    }\n",
       "\n",
       "    .dataframe thead th {\n",
       "        text-align: right;\n",
       "    }\n",
       "</style>\n",
       "<table border=\"1\" class=\"dataframe\">\n",
       "  <thead>\n",
       "    <tr style=\"text-align: right;\">\n",
       "      <th></th>\n",
       "      <th>Closed date</th>\n",
       "      <th>Ticket ID</th>\n",
       "      <th>Agent name</th>\n",
       "      <th>Status</th>\n",
       "      <th>Priority</th>\n",
       "      <th>Source</th>\n",
       "      <th>Resolution due by</th>\n",
       "      <th>Association type</th>\n",
       "      <th>Ticket type</th>\n",
       "      <th>First assign time in calendar hours</th>\n",
       "      <th>...</th>\n",
       "      <th>Internal agent name</th>\n",
       "      <th>First assigned agent</th>\n",
       "      <th>Status SLA timer</th>\n",
       "      <th>Tickets resolved within FCR</th>\n",
       "      <th>Tickets resolved within SLA</th>\n",
       "      <th>Tickets first responded within SLA</th>\n",
       "      <th>Tickets Age</th>\n",
       "      <th>First response group</th>\n",
       "      <th>First response agent</th>\n",
       "      <th>Tag name</th>\n",
       "    </tr>\n",
       "  </thead>\n",
       "  <tbody>\n",
       "    <tr>\n",
       "      <td>0</td>\n",
       "      <td>2019-04-11 14:41:00</td>\n",
       "      <td>24</td>\n",
       "      <td>NaN</td>\n",
       "      <td>Closed</td>\n",
       "      <td>low</td>\n",
       "      <td>Email</td>\n",
       "      <td>2019-12-20 14:33:00</td>\n",
       "      <td>NaN</td>\n",
       "      <td>General Query</td>\n",
       "      <td>42s</td>\n",
       "      <td>...</td>\n",
       "      <td>NaN</td>\n",
       "      <td>Agent 15</td>\n",
       "      <td>True</td>\n",
       "      <td>Non Violated</td>\n",
       "      <td>Non Violated</td>\n",
       "      <td>Violated</td>\n",
       "      <td>1d 0h 0m 0s</td>\n",
       "      <td>NaN</td>\n",
       "      <td>Agent 15</td>\n",
       "      <td>1st assesement required</td>\n",
       "    </tr>\n",
       "    <tr>\n",
       "      <td>1</td>\n",
       "      <td>2019-04-15 12:40:00</td>\n",
       "      <td>26</td>\n",
       "      <td>NaN</td>\n",
       "      <td>Closed</td>\n",
       "      <td>low</td>\n",
       "      <td>Email</td>\n",
       "      <td>2019-12-23 14:59:00</td>\n",
       "      <td>NaN</td>\n",
       "      <td>General Query</td>\n",
       "      <td>3m 21s</td>\n",
       "      <td>...</td>\n",
       "      <td>NaN</td>\n",
       "      <td>Agent 5</td>\n",
       "      <td>True</td>\n",
       "      <td>Violated</td>\n",
       "      <td>Non Violated</td>\n",
       "      <td>Non Violated</td>\n",
       "      <td>0s</td>\n",
       "      <td>NaN</td>\n",
       "      <td>NaN</td>\n",
       "      <td>1st assesement required</td>\n",
       "    </tr>\n",
       "    <tr>\n",
       "      <td>2</td>\n",
       "      <td>2019-04-15 13:10:00</td>\n",
       "      <td>27</td>\n",
       "      <td>NaN</td>\n",
       "      <td>Closed</td>\n",
       "      <td>low</td>\n",
       "      <td>Email</td>\n",
       "      <td>2019-12-23 14:49:00</td>\n",
       "      <td>NaN</td>\n",
       "      <td>General Query</td>\n",
       "      <td>22m 8s</td>\n",
       "      <td>...</td>\n",
       "      <td>NaN</td>\n",
       "      <td>Agent 15</td>\n",
       "      <td>True</td>\n",
       "      <td>Non Violated</td>\n",
       "      <td>Non Violated</td>\n",
       "      <td>Non Violated</td>\n",
       "      <td>0s</td>\n",
       "      <td>NaN</td>\n",
       "      <td>Agent 15</td>\n",
       "      <td>1st assesement required</td>\n",
       "    </tr>\n",
       "    <tr>\n",
       "      <td>3</td>\n",
       "      <td>2019-04-15 13:13:00</td>\n",
       "      <td>25</td>\n",
       "      <td>NaN</td>\n",
       "      <td>Closed</td>\n",
       "      <td>low</td>\n",
       "      <td>Email</td>\n",
       "      <td>2019-12-23 14:46:00</td>\n",
       "      <td>NaN</td>\n",
       "      <td>General Query</td>\n",
       "      <td>NaN</td>\n",
       "      <td>...</td>\n",
       "      <td>NaN</td>\n",
       "      <td>NaN</td>\n",
       "      <td>True</td>\n",
       "      <td>Non Violated</td>\n",
       "      <td>Non Violated</td>\n",
       "      <td>Non Violated</td>\n",
       "      <td>0s</td>\n",
       "      <td>NaN</td>\n",
       "      <td>NaN</td>\n",
       "      <td>1st assesement required</td>\n",
       "    </tr>\n",
       "    <tr>\n",
       "      <td>4</td>\n",
       "      <td>2019-04-15 14:52:00</td>\n",
       "      <td>28</td>\n",
       "      <td>NaN</td>\n",
       "      <td>Closed</td>\n",
       "      <td>low</td>\n",
       "      <td>Email</td>\n",
       "      <td>2019-12-23 13:58:00</td>\n",
       "      <td>NaN</td>\n",
       "      <td>General Query</td>\n",
       "      <td>17m 7s</td>\n",
       "      <td>...</td>\n",
       "      <td>NaN</td>\n",
       "      <td>Agent 5</td>\n",
       "      <td>True</td>\n",
       "      <td>Violated</td>\n",
       "      <td>Non Violated</td>\n",
       "      <td>Non Violated</td>\n",
       "      <td>0s</td>\n",
       "      <td>NaN</td>\n",
       "      <td>Agent 5</td>\n",
       "      <td>EUREKA1,1st assesement required</td>\n",
       "    </tr>\n",
       "  </tbody>\n",
       "</table>\n",
       "<p>5 rows × 58 columns</p>\n",
       "</div>"
      ],
      "text/plain": [
       "          Closed date  Ticket ID Agent name  Status Priority Source  \\\n",
       "0 2019-04-11 14:41:00         24        NaN  Closed      low  Email   \n",
       "1 2019-04-15 12:40:00         26        NaN  Closed      low  Email   \n",
       "2 2019-04-15 13:10:00         27        NaN  Closed      low  Email   \n",
       "3 2019-04-15 13:13:00         25        NaN  Closed      low  Email   \n",
       "4 2019-04-15 14:52:00         28        NaN  Closed      low  Email   \n",
       "\n",
       "    Resolution due by Association type    Ticket type  \\\n",
       "0 2019-12-20 14:33:00              NaN  General Query   \n",
       "1 2019-12-23 14:59:00              NaN  General Query   \n",
       "2 2019-12-23 14:49:00              NaN  General Query   \n",
       "3 2019-12-23 14:46:00              NaN  General Query   \n",
       "4 2019-12-23 13:58:00              NaN  General Query   \n",
       "\n",
       "  First assign time in calendar hours  ... Internal agent name  \\\n",
       "0                                 42s  ...                 NaN   \n",
       "1                              3m 21s  ...                 NaN   \n",
       "2                              22m 8s  ...                 NaN   \n",
       "3                                 NaN  ...                 NaN   \n",
       "4                              17m 7s  ...                 NaN   \n",
       "\n",
       "  First assigned agent Status SLA timer Tickets resolved within FCR  \\\n",
       "0             Agent 15             True                Non Violated   \n",
       "1              Agent 5             True                    Violated   \n",
       "2             Agent 15             True                Non Violated   \n",
       "3                  NaN             True                Non Violated   \n",
       "4              Agent 5             True                    Violated   \n",
       "\n",
       "  Tickets resolved within SLA Tickets first responded within SLA  Tickets Age  \\\n",
       "0                Non Violated                           Violated  1d 0h 0m 0s   \n",
       "1                Non Violated                       Non Violated           0s   \n",
       "2                Non Violated                       Non Violated           0s   \n",
       "3                Non Violated                       Non Violated           0s   \n",
       "4                Non Violated                       Non Violated           0s   \n",
       "\n",
       "  First response group First response agent                         Tag name  \n",
       "0                  NaN             Agent 15          1st assesement required  \n",
       "1                  NaN                  NaN          1st assesement required  \n",
       "2                  NaN             Agent 15          1st assesement required  \n",
       "3                  NaN                  NaN          1st assesement required  \n",
       "4                  NaN              Agent 5  EUREKA1,1st assesement required  \n",
       "\n",
       "[5 rows x 58 columns]"
      ]
     },
     "execution_count": 119,
     "metadata": {},
     "output_type": "execute_result"
    }
   ],
   "source": [
    "df.head()"
   ]
  },
  {
   "cell_type": "code",
   "execution_count": 120,
   "metadata": {},
   "outputs": [
    {
     "data": {
      "text/plain": [
       "Index(['Closed date', 'Ticket ID', 'Agent name', 'Status', 'Priority',\n",
       "       'Source', 'Resolution due by', 'Association type', 'Ticket type',\n",
       "       'First assign time in calendar hours', 'First assigned date', 'Subject',\n",
       "       'First response time in calendar hours', 'Cause of Issue',\n",
       "       'First response time in business hours', 'Created date',\n",
       "       'Resolution time in calendar hours', 'SSA role',\n",
       "       'Resolution time in business hours', 'Release', 'First response due by',\n",
       "       'Agent reply count', 'No of group reassigns till date',\n",
       "       'No of times reopened', 'Customer reply count', 'Last updated date',\n",
       "       'Last assigned date', 'WP', 'Resolved date', 'First response date',\n",
       "       'WP Time', 'First assign time in business hours', 'Product Type',\n",
       "       'Is Internal', 'Patch Number', 'No of agent reassigns till date',\n",
       "       'Requester Name', 'Requester language', 'Agent language',\n",
       "       'Agent timezone', 'Requester Type', 'Company name', 'Group name',\n",
       "       'Assign type', 'Product', 'Internal group name', 'First assigned group',\n",
       "       'Last updated agent', 'Internal agent name', 'First assigned agent',\n",
       "       'Status SLA timer', 'Tickets resolved within FCR',\n",
       "       'Tickets resolved within SLA', 'Tickets first responded within SLA',\n",
       "       'Tickets Age', 'First response group', 'First response agent',\n",
       "       'Tag name'],\n",
       "      dtype='object')"
      ]
     },
     "execution_count": 120,
     "metadata": {},
     "output_type": "execute_result"
    }
   ],
   "source": [
    "df.columns"
   ]
  },
  {
   "cell_type": "code",
   "execution_count": 121,
   "metadata": {},
   "outputs": [
    {
     "data": {
      "text/plain": [
       "Closed date                              True\n",
       "Agent name                               True\n",
       "Association type                         True\n",
       "Ticket type                              True\n",
       "First assign time in calendar hours      True\n",
       "First assigned date                      True\n",
       "Subject                                  True\n",
       "First response time in calendar hours    True\n",
       "Cause of Issue                           True\n",
       "First response time in business hours    True\n",
       "Resolution time in calendar hours        True\n",
       "SSA role                                 True\n",
       "Resolution time in business hours        True\n",
       "Release                                  True\n",
       "Last assigned date                       True\n",
       "WP                                       True\n",
       "Resolved date                            True\n",
       "First response date                      True\n",
       "WP Time                                  True\n",
       "First assign time in business hours      True\n",
       "Product Type                             True\n",
       "Is Internal                              True\n",
       "Patch Number                             True\n",
       "Agent language                           True\n",
       "Agent timezone                           True\n",
       "Product                                  True\n",
       "Internal group name                      True\n",
       "First assigned group                     True\n",
       "Last updated agent                       True\n",
       "Internal agent name                      True\n",
       "First assigned agent                     True\n",
       "First response group                     True\n",
       "First response agent                     True\n",
       "Tag name                                 True\n",
       "dtype: bool"
      ]
     },
     "execution_count": 121,
     "metadata": {},
     "output_type": "execute_result"
    }
   ],
   "source": [
    "df.isna().any()[lambda x: x]"
   ]
  },
  {
   "cell_type": "code",
   "execution_count": 185,
   "metadata": {},
   "outputs": [
    {
     "data": {
      "text/plain": [
       "Closed_date                               277\n",
       "Ticket_ID                                   0\n",
       "Agent_name                                199\n",
       "Status                                      0\n",
       "Priority                                    0\n",
       "Source                                      0\n",
       "Resolution_due_by                           0\n",
       "Association_type                         3828\n",
       "Ticket_type                               392\n",
       "First_assign_time_in_calendar_hours        50\n",
       "First_assigned_date                        50\n",
       "Subject                                     2\n",
       "First_response_time_in_calendar_hours     205\n",
       "Cause_of_Issue                           2823\n",
       "First_response_time_in_business_hours     205\n",
       "Created_date                                0\n",
       "Resolution_time_in_calendar_hours         254\n",
       "SSA_role                                 3772\n",
       "Resolution_time_in_business_hours         254\n",
       "Release                                  1287\n",
       "First_response_due_by                       0\n",
       "Agent_reply_count                           0\n",
       "No_of_group_reassigns_till_date             0\n",
       "No_of_times_reopened                        0\n",
       "Customer_reply_count                        0\n",
       "Last_updated_date                           0\n",
       "Last_assigned_date                        109\n",
       "WP                                       3829\n",
       "Resolved_date                             254\n",
       "First_response_date                       205\n",
       "WP_Time                                  3830\n",
       "First_assign_time_in_business_hours       120\n",
       "Product_Type                              615\n",
       "Is_Internal                               397\n",
       "Patch_Number                             3187\n",
       "No_of_agent_reassigns_till_date             0\n",
       "Requester_Name                              0\n",
       "Requester_language                          0\n",
       "Agent_language                            199\n",
       "Agent_timezone                            199\n",
       "Requester_Type                              0\n",
       "Company_name                                0\n",
       "Group_name                                  0\n",
       "Assign_type                                 0\n",
       "Product                                  3830\n",
       "Internal_group_name                      3830\n",
       "First_assigned_group                      105\n",
       "Last_updated_agent                       1999\n",
       "Internal_agent_name                      3830\n",
       "First_assigned_agent                      144\n",
       "Status_SLA_timer                            0\n",
       "Tickets_resolved_within_FCR                 0\n",
       "Tickets_resolved_within_SLA                 0\n",
       "Tickets_first_responded_within_SLA          0\n",
       "Tickets_Age                                 0\n",
       "First_response_group                     1254\n",
       "First_response_agent                      374\n",
       "Tag_name                                  909\n",
       "dtype: int64"
      ]
     },
     "execution_count": 185,
     "metadata": {},
     "output_type": "execute_result"
    }
   ],
   "source": [
    "df.isnull().sum()"
   ]
  },
  {
   "cell_type": "code",
   "execution_count": 122,
   "metadata": {},
   "outputs": [],
   "source": [
    "df.rename(columns = {'Closed date':'Closed_date','Ticket ID':'Ticket_ID',\n",
    "                     'Agent name':'Agent_name','Resolution due by':'Resolution_due_by','Association type':'Association_type',\n",
    "                     'Ticket type':'Ticket_type','First assign time in calendar hours':'First_assign_time_in_calendar_hours',\n",
    "                     'First assigned date':'First_assigned_date',\n",
    "                     'First response time in calendar hours':'First_response_time_in_calendar_hours',\n",
    "                     'Cause of Issue':'Cause_of_Issue',\n",
    "                     'First response time in business hours':'First_response_time_in_business_hours',\n",
    "                     'Created date':'Created_date',\n",
    "                     'Resolution time in calendar hours':'Resolution_time_in_calendar_hours',\n",
    "                     'SSA role':'SSA_role',\n",
    "                     'Resolution time in business hours':'Resolution_time_in_business_hours',\n",
    "                     'First response due by':'First_response_due_by',\n",
    "                     'Agent reply count':'Agent_reply_count',\n",
    "                     'No of group reassigns till date':'No_of_group_reassigns_till_date',\n",
    "                     'No of times reopened':'No_of_times_reopened',\n",
    "                     'Customer reply count':'Customer_reply_count',\n",
    "                     'Last updated date':'Last_updated_date',\n",
    "                     'Last assigned date':'Last_assigned_date',\n",
    "                     'Resolved date':'Resolved_date',\n",
    "                     'First response date':'First_response_date',\n",
    "                     'WP Time':'WP_Time',\n",
    "                     'First assign time in business hours':'First_assign_time_in_business_hours',\n",
    "                     'Product Type':'Product_Type',\n",
    "                     'Is Internal':'Is_Internal',\n",
    "                     'Patch Number':'Patch_Number',\n",
    "                     'No of agent reassigns till date':'No_of_agent_reassigns_till_date',\n",
    "                     'Requester Name':'Requester_Name',\n",
    "                     'Requester language':'Requester_language',\n",
    "                     'Agent language':'Agent_language',\n",
    "                     'Agent timezone':'Agent_timezone',\n",
    "                     'Requester Type':'Requester_Type',\n",
    "                     'Company name':'Company_name',\n",
    "                     'Group name':'Group_name',\n",
    "                     'Assign type':'Assign_type',\n",
    "                     'Internal group name':'Internal_group_name',\n",
    "                     'First assigned group':'First_assigned_group',\n",
    "                     'Last updated agent':'Last_updated_agent',\n",
    "                     'Internal agent name':'Internal_agent_name',\n",
    "                     'First assigned agent':'First_assigned_agent',\n",
    "                     'Status SLA timer':'Status_SLA_timer',\n",
    "                     'Tickets resolved within FCR':'Tickets_resolved_within_FCR',\n",
    "                     'Tickets resolved within SLA':'Tickets_resolved_within_SLA',\n",
    "                     'Tickets first responded within SLA':'Tickets_first_responded_within_SLA',\n",
    "                     'Tickets Age':'Tickets_Age',\n",
    "                     'First response group':'First_response_group',\n",
    "                     'First response agent':'First_response_agent',\n",
    "                     'Tag name':'Tag_name'}, inplace = True)"
   ]
  },
  {
   "cell_type": "code",
   "execution_count": 123,
   "metadata": {},
   "outputs": [
    {
     "name": "stdout",
     "output_type": "stream",
     "text": [
      "Index(['Closed_date', 'Ticket_ID', 'Agent_name', 'Status', 'Priority',\n",
      "       'Source', 'Resolution_due_by', 'Association_type', 'Ticket_type',\n",
      "       'First_assign_time_in_calendar_hours', 'First_assigned_date', 'Subject',\n",
      "       'First_response_time_in_calendar_hours', 'Cause_of_Issue',\n",
      "       'First_response_time_in_business_hours', 'Created_date',\n",
      "       'Resolution_time_in_calendar_hours', 'SSA_role',\n",
      "       'Resolution_time_in_business_hours', 'Release', 'First_response_due_by',\n",
      "       'Agent_reply_count', 'No_of_group_reassigns_till_date',\n",
      "       'No_of_times_reopened', 'Customer_reply_count', 'Last_updated_date',\n",
      "       'Last_assigned_date', 'WP', 'Resolved_date', 'First_response_date',\n",
      "       'WP_Time', 'First_assign_time_in_business_hours', 'Product_Type',\n",
      "       'Is_Internal', 'Patch_Number', 'No_of_agent_reassigns_till_date',\n",
      "       'Requester_Name', 'Requester_language', 'Agent_language',\n",
      "       'Agent_timezone', 'Requester_Type', 'Company_name', 'Group_name',\n",
      "       'Assign_type', 'Product', 'Internal_group_name', 'First_assigned_group',\n",
      "       'Last_updated_agent', 'Internal_agent_name', 'First_assigned_agent',\n",
      "       'Status_SLA_timer', 'Tickets_resolved_within_FCR',\n",
      "       'Tickets_resolved_within_SLA', 'Tickets_first_responded_within_SLA',\n",
      "       'Tickets_Age', 'First_response_group', 'First_response_agent',\n",
      "       'Tag_name'],\n",
      "      dtype='object')\n"
     ]
    }
   ],
   "source": [
    "print(df.columns)"
   ]
  },
  {
   "cell_type": "code",
   "execution_count": 170,
   "metadata": {},
   "outputs": [
    {
     "data": {
      "text/plain": [
       "Closed_date                              datetime64[ns]\n",
       "Ticket_ID                                         int64\n",
       "Agent_name                                       object\n",
       "Status                                           object\n",
       "Priority                                         object\n",
       "Source                                           object\n",
       "Resolution_due_by                        datetime64[ns]\n",
       "Association_type                                 object\n",
       "Ticket_type                                      object\n",
       "First_assign_time_in_calendar_hours              object\n",
       "First_assigned_date                      datetime64[ns]\n",
       "Subject                                          object\n",
       "First_response_time_in_calendar_hours            object\n",
       "Cause_of_Issue                                   object\n",
       "First_response_time_in_business_hours            object\n",
       "Created_date                             datetime64[ns]\n",
       "Resolution_time_in_calendar_hours                object\n",
       "SSA_role                                         object\n",
       "Resolution_time_in_business_hours                object\n",
       "Release                                          object\n",
       "First_response_due_by                    datetime64[ns]\n",
       "Agent_reply_count                                 int64\n",
       "No_of_group_reassigns_till_date                   int64\n",
       "No_of_times_reopened                              int64\n",
       "Customer_reply_count                              int64\n",
       "Last_updated_date                        datetime64[ns]\n",
       "Last_assigned_date                       datetime64[ns]\n",
       "WP                                       datetime64[ns]\n",
       "Resolved_date                            datetime64[ns]\n",
       "First_response_date                      datetime64[ns]\n",
       "WP_Time                                         float64\n",
       "First_assign_time_in_business_hours              object\n",
       "Product_Type                                     object\n",
       "Is_Internal                                     float64\n",
       "Patch_Number                                    float64\n",
       "No_of_agent_reassigns_till_date                   int64\n",
       "Requester_Name                                   object\n",
       "Requester_language                               object\n",
       "Agent_language                                   object\n",
       "Agent_timezone                                   object\n",
       "Requester_Type                                   object\n",
       "Company_name                                     object\n",
       "Group_name                                       object\n",
       "Assign_type                                      object\n",
       "Product                                         float64\n",
       "Internal_group_name                             float64\n",
       "First_assigned_group                             object\n",
       "Last_updated_agent                               object\n",
       "Internal_agent_name                             float64\n",
       "First_assigned_agent                             object\n",
       "Status_SLA_timer                                   bool\n",
       "Tickets_resolved_within_FCR                      object\n",
       "Tickets_resolved_within_SLA                      object\n",
       "Tickets_first_responded_within_SLA               object\n",
       "Tickets_Age                                      object\n",
       "First_response_group                             object\n",
       "First_response_agent                             object\n",
       "Tag_name                                         object\n",
       "dtype: object"
      ]
     },
     "execution_count": 170,
     "metadata": {},
     "output_type": "execute_result"
    }
   ],
   "source": [
    "df.dtypes"
   ]
  },
  {
   "cell_type": "code",
   "execution_count": 124,
   "metadata": {},
   "outputs": [
    {
     "data": {
      "text/plain": [
       "array(['Closed', 'Pending', 'On Hold with Customer',\n",
       "       'Software Change Pending', 'Resolved', 'Open',\n",
       "       'Closed - Not Resolved'], dtype=object)"
      ]
     },
     "execution_count": 124,
     "metadata": {},
     "output_type": "execute_result"
    }
   ],
   "source": [
    "df.Status.unique()"
   ]
  },
  {
   "cell_type": "code",
   "execution_count": 125,
   "metadata": {},
   "outputs": [
    {
     "data": {
      "text/plain": [
       "Closed                     3554\n",
       "Open                        140\n",
       "Pending                      81\n",
       "Resolved                     23\n",
       "On Hold with Customer        20\n",
       "Software Change Pending      11\n",
       "Closed - Not Resolved         1\n",
       "Name: Status, dtype: int64"
      ]
     },
     "execution_count": 125,
     "metadata": {},
     "output_type": "execute_result"
    }
   ],
   "source": [
    "df.Status.value_counts()"
   ]
  },
  {
   "cell_type": "code",
   "execution_count": 196,
   "metadata": {},
   "outputs": [
    {
     "data": {
      "text/plain": [
       "<matplotlib.axes._subplots.AxesSubplot at 0x1ab96cf1248>"
      ]
     },
     "execution_count": 196,
     "metadata": {},
     "output_type": "execute_result"
    },
    {
     "data": {
      "image/png": "[encoded data removed]",
      "text/plain": [
       "<Figure size 432x288 with 1 Axes>"
      ]
     },
     "metadata": {
      "needs_background": "light"
     },
     "output_type": "display_data"
    }
   ],
   "source": [
    "sns.countplot(df['Status'])"
   ]
  },
  {
   "cell_type": "code",
   "execution_count": 126,
   "metadata": {},
   "outputs": [
    {
     "data": {
      "text/plain": [
       "array(['low', 'urgent', 'medium', 'high'], dtype=object)"
      ]
     },
     "execution_count": 126,
     "metadata": {},
     "output_type": "execute_result"
    }
   ],
   "source": [
    "df.Priority.unique()"
   ]
  },
  {
   "cell_type": "code",
   "execution_count": 127,
   "metadata": {},
   "outputs": [
    {
     "data": {
      "text/plain": [
       "low       2682\n",
       "medium     694\n",
       "high       413\n",
       "urgent      41\n",
       "Name: Priority, dtype: int64"
      ]
     },
     "execution_count": 127,
     "metadata": {},
     "output_type": "execute_result"
    }
   ],
   "source": [
    "df.Priority.value_counts()"
   ]
  },
  {
   "cell_type": "code",
   "execution_count": 197,
   "metadata": {},
   "outputs": [
    {
     "data": {
      "text/plain": [
       "<matplotlib.axes._subplots.AxesSubplot at 0x1ab96d78588>"
      ]
     },
     "execution_count": 197,
     "metadata": {},
     "output_type": "execute_result"
    },
    {
     "data": {
      "image/png": "[encoded data removed]",
      "text/plain": [
       "<Figure size 432x288 with 1 Axes>"
      ]
     },
     "metadata": {
      "needs_background": "light"
     },
     "output_type": "display_data"
    }
   ],
   "source": [
    "sns.countplot(df['Priority'])"
   ]
  },
  {
   "cell_type": "code",
   "execution_count": 128,
   "metadata": {},
   "outputs": [
    {
     "data": {
      "text/plain": [
       "array(['Email', 'Portal', 'Phone', 'Outbound Email'], dtype=object)"
      ]
     },
     "execution_count": 128,
     "metadata": {},
     "output_type": "execute_result"
    }
   ],
   "source": [
    "df.Source.unique()"
   ]
  },
  {
   "cell_type": "code",
   "execution_count": 129,
   "metadata": {},
   "outputs": [
    {
     "data": {
      "text/plain": [
       "Portal            2135\n",
       "Email             1632\n",
       "Phone               60\n",
       "Outbound Email       3\n",
       "Name: Source, dtype: int64"
      ]
     },
     "execution_count": 129,
     "metadata": {},
     "output_type": "execute_result"
    }
   ],
   "source": [
    "df.Source.value_counts()"
   ]
  },
  {
   "cell_type": "code",
   "execution_count": 198,
   "metadata": {},
   "outputs": [
    {
     "data": {
      "text/plain": [
       "<matplotlib.axes._subplots.AxesSubplot at 0x1ab96db5788>"
      ]
     },
     "execution_count": 198,
     "metadata": {},
     "output_type": "execute_result"
    },
    {
     "data": {
      "image/png": "[encoded data removed]",
      "text/plain": [
       "<Figure size 432x288 with 1 Axes>"
      ]
     },
     "metadata": {
      "needs_background": "light"
     },
     "output_type": "display_data"
    }
   ],
   "source": [
    "sns.countplot(df['Source'])"
   ]
  },
  {
   "cell_type": "code",
   "execution_count": 130,
   "metadata": {},
   "outputs": [
    {
     "data": {
      "text/plain": [
       "array([nan, 'child', 'assoc_parent'], dtype=object)"
      ]
     },
     "execution_count": 130,
     "metadata": {},
     "output_type": "execute_result"
    }
   ],
   "source": [
    "df.Association_type.unique()"
   ]
  },
  {
   "cell_type": "code",
   "execution_count": 131,
   "metadata": {},
   "outputs": [
    {
     "data": {
      "text/plain": [
       "assoc_parent    1\n",
       "child           1\n",
       "Name: Association_type, dtype: int64"
      ]
     },
     "execution_count": 131,
     "metadata": {},
     "output_type": "execute_result"
    }
   ],
   "source": [
    "df.Association_type.value_counts()"
   ]
  },
  {
   "cell_type": "code",
   "execution_count": 199,
   "metadata": {},
   "outputs": [
    {
     "data": {
      "text/plain": [
       "<matplotlib.axes._subplots.AxesSubplot at 0x1ab979dd1c8>"
      ]
     },
     "execution_count": 199,
     "metadata": {},
     "output_type": "execute_result"
    },
    {
     "data": {
      "image/png": "[encoded data removed]",
      "text/plain": [
       "<Figure size 432x288 with 1 Axes>"
      ]
     },
     "metadata": {
      "needs_background": "light"
     },
     "output_type": "display_data"
    }
   ],
   "source": [
    "sns.countplot(df['Association_type'])"
   ]
  },
  {
   "cell_type": "code",
   "execution_count": 132,
   "metadata": {},
   "outputs": [
    {
     "data": {
      "text/plain": [
       "array(['General Query', 'Software Incident', 'Hardware Incident', nan,\n",
       "       'Operational Request', 'No Fault Found', 'Project Related',\n",
       "       'Configuration Change', 'Managed Service', 'Change Request',\n",
       "       'Professional Service', 'Product Query', 'Project Request',\n",
       "       'Support Request (Planned Change)', 'Other Request',\n",
       "       'SMART Service Request'], dtype=object)"
      ]
     },
     "execution_count": 132,
     "metadata": {},
     "output_type": "execute_result"
    }
   ],
   "source": [
    "df.Ticket_type.unique()"
   ]
  },
  {
   "cell_type": "code",
   "execution_count": 133,
   "metadata": {},
   "outputs": [
    {
     "data": {
      "text/plain": [
       "General Query                       1349\n",
       "Software Incident                   1204\n",
       "Operational Request                  543\n",
       "Configuration Change                  83\n",
       "Hardware Incident                     52\n",
       "Change Request                        45\n",
       "Product Query                         43\n",
       "No Fault Found                        26\n",
       "Managed Service                       24\n",
       "Project Related                       21\n",
       "Support Request (Planned Change)      15\n",
       "Professional Service                  13\n",
       "Other Request                         11\n",
       "Project Request                        7\n",
       "SMART Service Request                  2\n",
       "Name: Ticket_type, dtype: int64"
      ]
     },
     "execution_count": 133,
     "metadata": {},
     "output_type": "execute_result"
    }
   ],
   "source": [
    "df.Ticket_type.value_counts()"
   ]
  },
  {
   "cell_type": "code",
   "execution_count": 200,
   "metadata": {},
   "outputs": [
    {
     "data": {
      "text/plain": [
       "<matplotlib.axes._subplots.AxesSubplot at 0x1ab97a740c8>"
      ]
     },
     "execution_count": 200,
     "metadata": {},
     "output_type": "execute_result"
    },
    {
     "data": {
      "image/png": "[encoded data removed]",
      "text/plain": [
       "<Figure size 432x288 with 1 Axes>"
      ]
     },
     "metadata": {
      "needs_background": "light"
     },
     "output_type": "display_data"
    }
   ],
   "source": [
    "sns.countplot(df['Ticket_type'])"
   ]
  },
  {
   "cell_type": "code",
   "execution_count": 134,
   "metadata": {},
   "outputs": [
    {
     "data": {
      "text/plain": [
       "array([nan, 'Software Issue', 'Operational Issue',\n",
       "       'Human/Config Caused Issue', 'Hardware Issue',\n",
       "       'Technical Information Required', 'Issue not found',\n",
       "       'Issue not with Openmind Networks', 'Deployment Issue'],\n",
       "      dtype=object)"
      ]
     },
     "execution_count": 134,
     "metadata": {},
     "output_type": "execute_result"
    }
   ],
   "source": [
    "df.Cause_of_Issue.unique()"
   ]
  },
  {
   "cell_type": "code",
   "execution_count": 135,
   "metadata": {},
   "outputs": [
    {
     "data": {
      "text/plain": [
       "Technical Information Required      234\n",
       "Operational Issue                   225\n",
       "Software Issue                      198\n",
       "Human/Config Caused Issue           136\n",
       "Issue not with Openmind Networks     91\n",
       "Issue not found                      84\n",
       "Hardware Issue                       24\n",
       "Deployment Issue                     15\n",
       "Name: Cause_of_Issue, dtype: int64"
      ]
     },
     "execution_count": 135,
     "metadata": {},
     "output_type": "execute_result"
    }
   ],
   "source": [
    "df.Cause_of_Issue.value_counts()"
   ]
  },
  {
   "cell_type": "code",
   "execution_count": 191,
   "metadata": {},
   "outputs": [
    {
     "data": {
      "text/plain": [
       "<matplotlib.axes._subplots.AxesSubplot at 0x1ab960cdac8>"
      ]
     },
     "execution_count": 191,
     "metadata": {},
     "output_type": "execute_result"
    },
    {
     "data": {
      "image/png": "[encoded data removed]",
      "text/plain": [
       "<Figure size 432x288 with 1 Axes>"
      ]
     },
     "metadata": {
      "needs_background": "light"
     },
     "output_type": "display_data"
    }
   ],
   "source": [
    "sns.countplot(df['Cause_of_Issue'])"
   ]
  },
  {
   "cell_type": "code",
   "execution_count": 136,
   "metadata": {},
   "outputs": [
    {
     "data": {
      "text/plain": [
       "array([nan, 'SSA1 (Khu)', 'Not Applicable', 'SSA2 (Brandon)',\n",
       "       'HoS (Larry)'], dtype=object)"
      ]
     },
     "execution_count": 136,
     "metadata": {},
     "output_type": "execute_result"
    }
   ],
   "source": [
    "df.SSA_role.unique()"
   ]
  },
  {
   "cell_type": "code",
   "execution_count": 137,
   "metadata": {},
   "outputs": [
    {
     "data": {
      "text/plain": [
       "array([nan, '15Q3', 'Other', '15Q1', '14Q3', 'TC6000', '13Q3', '14Q2',\n",
       "       '14Q1', '15Q2', '12Q1', '13Q2', '13Q1'], dtype=object)"
      ]
     },
     "execution_count": 137,
     "metadata": {},
     "output_type": "execute_result"
    }
   ],
   "source": [
    "df.Release.unique()"
   ]
  },
  {
   "cell_type": "code",
   "execution_count": 138,
   "metadata": {},
   "outputs": [
    {
     "data": {
      "text/plain": [
       "array([nan, 'SMSC', 'Engage', 'Insight', 'MMSC', 'USSDGW', 'Care',\n",
       "       'Application Router', 'IPSMGW', 'SMS Hub', 'SMSFW',\n",
       "       'Not Applicable', 'Bulk SMSC', 'Campaign Management System (CMS)',\n",
       "       'Profile', 'MMS Hub', 'MCN'], dtype=object)"
      ]
     },
     "execution_count": 138,
     "metadata": {},
     "output_type": "execute_result"
    }
   ],
   "source": [
    "df.Product_Type.unique()"
   ]
  },
  {
   "cell_type": "code",
   "execution_count": 139,
   "metadata": {},
   "outputs": [
    {
     "data": {
      "text/plain": [
       "array([ 0.,  1., nan])"
      ]
     },
     "execution_count": 139,
     "metadata": {},
     "output_type": "execute_result"
    }
   ],
   "source": [
    "df.Is_Internal.unique()"
   ]
  },
  {
   "cell_type": "code",
   "execution_count": 140,
   "metadata": {},
   "outputs": [
    {
     "data": {
      "text/plain": [
       "array(['en', 'it', 'ru-RU', 'sl', 'fr', 'de', 'sv-SE', 'pl', 'zh-CN',\n",
       "       'id', 'uk'], dtype=object)"
      ]
     },
     "execution_count": 140,
     "metadata": {},
     "output_type": "execute_result"
    }
   ],
   "source": [
    "df.Requester_language.unique()"
   ]
  },
  {
   "cell_type": "code",
   "execution_count": 141,
   "metadata": {},
   "outputs": [
    {
     "data": {
      "text/plain": [
       "array([nan, 'en'], dtype=object)"
      ]
     },
     "execution_count": 141,
     "metadata": {},
     "output_type": "execute_result"
    }
   ],
   "source": [
    "df.Agent_language.unique()"
   ]
  },
  {
   "cell_type": "code",
   "execution_count": 142,
   "metadata": {},
   "outputs": [
    {
     "data": {
      "text/plain": [
       "array(['agent', 'contact'], dtype=object)"
      ]
     },
     "execution_count": 142,
     "metadata": {},
     "output_type": "execute_result"
    }
   ],
   "source": [
    "df.Requester_Type.unique()"
   ]
  },
  {
   "cell_type": "code",
   "execution_count": 143,
   "metadata": {},
   "outputs": [
    {
     "data": {
      "text/plain": [
       "contact    3792\n",
       "agent        38\n",
       "Name: Requester_Type, dtype: int64"
      ]
     },
     "execution_count": 143,
     "metadata": {},
     "output_type": "execute_result"
    }
   ],
   "source": [
    "df.Requester_Type.value_counts()"
   ]
  },
  {
   "cell_type": "code",
   "execution_count": 192,
   "metadata": {},
   "outputs": [
    {
     "data": {
      "text/plain": [
       "<matplotlib.axes._subplots.AxesSubplot at 0x1ab97474f08>"
      ]
     },
     "execution_count": 192,
     "metadata": {},
     "output_type": "execute_result"
    },
    {
     "data": {
      "image/png": "[encoded data removed]",
      "text/plain": [
       "<Figure size 432x288 with 1 Axes>"
      ]
     },
     "metadata": {
      "needs_background": "light"
     },
     "output_type": "display_data"
    }
   ],
   "source": [
    "sns.countplot(df['Requester_Type'])"
   ]
  },
  {
   "cell_type": "code",
   "execution_count": 144,
   "metadata": {},
   "outputs": [
    {
     "data": {
      "text/plain": [
       "array(['Company 0', 'Company 47', 'Company 11', 'Company 53',\n",
       "       'Company 18', 'Company 10', 'Company 60', 'Company 36',\n",
       "       'Company 29', 'Company 49', 'Company 57', 'Company 20',\n",
       "       'Company 46', 'Company 44', 'Company 48', 'Company 16',\n",
       "       'Company 28', 'Company 1', 'Company 66', 'Company 34',\n",
       "       'Company 39', 'Company 58', 'Company 59', 'Company 54',\n",
       "       'Company 63', 'Company 5', 'Company 33', 'Company 13',\n",
       "       'Company 52', 'Company 62', 'Company 7', 'Company 43',\n",
       "       'Company 19', 'Company 26', 'Company 25', 'Company 67',\n",
       "       'Company 24', 'Company 38', 'Company 65', 'Company 40',\n",
       "       'Company 45', 'Company 51', 'Company 30', 'Company 64',\n",
       "       'Company 15', 'Company 12', 'Company 23', 'Company 41',\n",
       "       'Company 42', 'Company 2', 'Company 32', 'Company 21', 'Company 9',\n",
       "       'Company 61', 'Company 50', 'Company 4', 'Company 35', 'Company 6',\n",
       "       'Company 55', 'Company 3', 'Company 8', 'Company 37', 'Company 17',\n",
       "       'Company 56', 'Company 22', 'Company 27', 'Company 31'],\n",
       "      dtype=object)"
      ]
     },
     "execution_count": 144,
     "metadata": {},
     "output_type": "execute_result"
    }
   ],
   "source": [
    "df.Company_name.unique()"
   ]
  },
  {
   "cell_type": "code",
   "execution_count": 145,
   "metadata": {},
   "outputs": [
    {
     "data": {
      "text/plain": [
       "array(['Support', 'NGW'], dtype=object)"
      ]
     },
     "execution_count": 145,
     "metadata": {},
     "output_type": "execute_result"
    }
   ],
   "source": [
    "df.Group_name.unique()"
   ]
  },
  {
   "cell_type": "code",
   "execution_count": 146,
   "metadata": {},
   "outputs": [
    {
     "data": {
      "text/plain": [
       "Support    3588\n",
       "NGW         242\n",
       "Name: Group_name, dtype: int64"
      ]
     },
     "execution_count": 146,
     "metadata": {},
     "output_type": "execute_result"
    }
   ],
   "source": [
    "df.Group_name.value_counts()"
   ]
  },
  {
   "cell_type": "code",
   "execution_count": 193,
   "metadata": {},
   "outputs": [
    {
     "data": {
      "text/plain": [
       "<matplotlib.axes._subplots.AxesSubplot at 0x1ab95da0e88>"
      ]
     },
     "execution_count": 193,
     "metadata": {},
     "output_type": "execute_result"
    },
    {
     "data": {
      "image/png": "[encoded data removed]",
      "text/plain": [
       "<Figure size 432x288 with 1 Axes>"
      ]
     },
     "metadata": {
      "needs_background": "light"
     },
     "output_type": "display_data"
    }
   ],
   "source": [
    "sns.countplot(df['Group_name'])"
   ]
  },
  {
   "cell_type": "code",
   "execution_count": 147,
   "metadata": {},
   "outputs": [
    {
     "data": {
      "text/plain": [
       "array(['default'], dtype=object)"
      ]
     },
     "execution_count": 147,
     "metadata": {},
     "output_type": "execute_result"
    }
   ],
   "source": [
    "df.Assign_type.unique()"
   ]
  },
  {
   "cell_type": "code",
   "execution_count": 148,
   "metadata": {},
   "outputs": [
    {
     "data": {
      "text/plain": [
       "array([nan])"
      ]
     },
     "execution_count": 148,
     "metadata": {},
     "output_type": "execute_result"
    }
   ],
   "source": [
    "df.Product.unique()"
   ]
  },
  {
   "cell_type": "code",
   "execution_count": 149,
   "metadata": {},
   "outputs": [
    {
     "data": {
      "text/plain": [
       "array([nan])"
      ]
     },
     "execution_count": 149,
     "metadata": {},
     "output_type": "execute_result"
    }
   ],
   "source": [
    "df.Internal_group_name.unique()"
   ]
  },
  {
   "cell_type": "code",
   "execution_count": 150,
   "metadata": {},
   "outputs": [
    {
     "data": {
      "text/plain": [
       "array([nan, 'Support', 'Escalations', 'Development', 'NGW', 'Deployment',\n",
       "       'Support - STE VT1 (APAC)', 'Support - STE VT 4 (Wholesale)',\n",
       "       'Support - STE VT3 (Europe; MEA)',\n",
       "       'Support - STE VT2 (Americas/ CIS)'], dtype=object)"
      ]
     },
     "execution_count": 150,
     "metadata": {},
     "output_type": "execute_result"
    }
   ],
   "source": [
    "df.First_assigned_group.unique()"
   ]
  },
  {
   "cell_type": "code",
   "execution_count": 151,
   "metadata": {},
   "outputs": [
    {
     "data": {
      "text/plain": [
       "array([nan, 'Agent 10', 'Agent 5', 'Agent 23', 'Agent 2', 'Agent 14',\n",
       "       'Agent 27', 'Agent 15', 'Agent 9', 'Agent 1', 'Agent 6',\n",
       "       'Agent 26', 'Agent 18', 'Agent 13', 'Agent 25', 'Agent 19',\n",
       "       'Agent 8', 'Agent 3', 'Agent 11', 'Agent 21', 'Agent 24',\n",
       "       'Agent 22'], dtype=object)"
      ]
     },
     "execution_count": 151,
     "metadata": {},
     "output_type": "execute_result"
    }
   ],
   "source": [
    "df.Last_updated_agent.unique()"
   ]
  },
  {
   "cell_type": "code",
   "execution_count": 152,
   "metadata": {},
   "outputs": [
    {
     "data": {
      "text/plain": [
       "array([nan])"
      ]
     },
     "execution_count": 152,
     "metadata": {},
     "output_type": "execute_result"
    }
   ],
   "source": [
    "df.Internal_agent_name.unique()"
   ]
  },
  {
   "cell_type": "code",
   "execution_count": 153,
   "metadata": {},
   "outputs": [
    {
     "data": {
      "text/plain": [
       "array(['Agent 15', 'Agent 5', nan, 'Agent 6', 'Agent 14', 'Agent 18',\n",
       "       'Agent 10', 'Agent 23', 'Agent 1', 'Agent 16', 'Agent 27',\n",
       "       'Agent 2', 'Agent 8', 'Agent 13', 'Agent 4', 'Agent 12', 'Agent 9',\n",
       "       'Agent 26', 'Agent 7', 'Agent 25', 'Agent 21', 'Agent 19',\n",
       "       'Agent 3', 'Agent 17', 'Agent 22', 'Agent 24', 'Agent 11',\n",
       "       'Agent 20'], dtype=object)"
      ]
     },
     "execution_count": 153,
     "metadata": {},
     "output_type": "execute_result"
    }
   ],
   "source": [
    "df.First_assigned_agent.unique()"
   ]
  },
  {
   "cell_type": "code",
   "execution_count": 154,
   "metadata": {},
   "outputs": [
    {
     "data": {
      "text/plain": [
       "array([nan, 'Support', 'Deployment', 'NGW', 'Escalations',\n",
       "       'Support - STE VT1 (APAC)', 'Support - STE VT 4 (Wholesale)',\n",
       "       'Support - STE VT2 (Americas/ CIS)',\n",
       "       'Support - STE VT3 (Europe; MEA)'], dtype=object)"
      ]
     },
     "execution_count": 154,
     "metadata": {},
     "output_type": "execute_result"
    }
   ],
   "source": [
    "df.First_response_group.unique()"
   ]
  },
  {
   "cell_type": "code",
   "execution_count": 155,
   "metadata": {},
   "outputs": [
    {
     "data": {
      "text/plain": [
       "array(['Agent 15', nan, 'Agent 5', 'Agent 6', 'Agent 14', 'Agent 10',\n",
       "       'Agent 23', 'Agent 18', 'Agent 1', 'Agent 16', 'Agent 27',\n",
       "       'Agent 2', 'Agent 8', 'Agent 4', 'Agent 13', 'Agent 9', 'Agent 12',\n",
       "       'Agent 26', 'Agent 7', 'Agent 25', 'Agent 21', 'Agent 19',\n",
       "       'Agent 3', 'Agent 17', 'Agent 22', 'Agent 24', 'Agent 11'],\n",
       "      dtype=object)"
      ]
     },
     "execution_count": 155,
     "metadata": {},
     "output_type": "execute_result"
    }
   ],
   "source": [
    "df.First_response_agent.unique()"
   ]
  },
  {
   "cell_type": "code",
   "execution_count": 156,
   "metadata": {},
   "outputs": [
    {
     "data": {
      "text/plain": [
       "<matplotlib.axes._subplots.AxesSubplot at 0x1ab974e3b88>"
      ]
     },
     "execution_count": 156,
     "metadata": {},
     "output_type": "execute_result"
    },
    {
     "data": {
      "image/png": "[encoded data removed]",
      "text/plain": [
       "<Figure size 432x288 with 1 Axes>"
      ]
     },
     "metadata": {
      "needs_background": "light"
     },
     "output_type": "display_data"
    }
   ],
   "source": [
    "sns.boxplot(data=df,x='Ticket_ID')"
   ]
  },
  {
   "cell_type": "code",
   "execution_count": 172,
   "metadata": {},
   "outputs": [
    {
     "data": {
      "text/plain": [
       "<matplotlib.axes._subplots.AxesSubplot at 0x1ab9794d448>"
      ]
     },
     "execution_count": 172,
     "metadata": {},
     "output_type": "execute_result"
    },
    {
     "data": {
      "image/png": "[encoded data removed]",
      "text/plain": [
       "<Figure size 432x288 with 1 Axes>"
      ]
     },
     "metadata": {
      "needs_background": "light"
     },
     "output_type": "display_data"
    }
   ],
   "source": [
    "sns.boxplot(data=df,x='Agent_reply_count')"
   ]
  },
  {
   "cell_type": "code",
   "execution_count": 173,
   "metadata": {},
   "outputs": [
    {
     "data": {
      "text/plain": [
       "<matplotlib.axes._subplots.AxesSubplot at 0x1ab97821648>"
      ]
     },
     "execution_count": 173,
     "metadata": {},
     "output_type": "execute_result"
    },
    {
     "data": {
      "image/png": "[encoded data removed]",
      "text/plain": [
       "<Figure size 432x288 with 1 Axes>"
      ]
     },
     "metadata": {
      "needs_background": "light"
     },
     "output_type": "display_data"
    }
   ],
   "source": [
    "sns.boxplot(data=df,x='No_of_group_reassigns_till_date')"
   ]
  },
  {
   "cell_type": "code",
   "execution_count": 174,
   "metadata": {},
   "outputs": [
    {
     "data": {
      "text/plain": [
       "<matplotlib.axes._subplots.AxesSubplot at 0x1ab9757b108>"
      ]
     },
     "execution_count": 174,
     "metadata": {},
     "output_type": "execute_result"
    },
    {
     "data": {
      "image/png": "[encoded data removed]",
      "text/plain": [
       "<Figure size 432x288 with 1 Axes>"
      ]
     },
     "metadata": {
      "needs_background": "light"
     },
     "output_type": "display_data"
    }
   ],
   "source": [
    "sns.boxplot(data=df,x='No_of_times_reopened')"
   ]
  },
  {
   "cell_type": "code",
   "execution_count": 175,
   "metadata": {},
   "outputs": [
    {
     "data": {
      "text/plain": [
       "<matplotlib.axes._subplots.AxesSubplot at 0x1ab975a1588>"
      ]
     },
     "execution_count": 175,
     "metadata": {},
     "output_type": "execute_result"
    },
    {
     "data": {
      "image/png": "[encoded data removed]",
      "text/plain": [
       "<Figure size 432x288 with 1 Axes>"
      ]
     },
     "metadata": {
      "needs_background": "light"
     },
     "output_type": "display_data"
    }
   ],
   "source": [
    "sns.boxplot(data=df,x='Customer_reply_count')"
   ]
  },
  {
   "cell_type": "code",
   "execution_count": 176,
   "metadata": {},
   "outputs": [
    {
     "data": {
      "text/plain": [
       "<matplotlib.axes._subplots.AxesSubplot at 0x1ab94a37788>"
      ]
     },
     "execution_count": 176,
     "metadata": {},
     "output_type": "execute_result"
    },
    {
     "data": {
      "image/png": "[encoded data removed]",
      "text/plain": [
       "<Figure size 432x288 with 1 Axes>"
      ]
     },
     "metadata": {
      "needs_background": "light"
     },
     "output_type": "display_data"
    }
   ],
   "source": [
    "sns.boxplot(data=df,x='WP_Time')"
   ]
  },
  {
   "cell_type": "code",
   "execution_count": 177,
   "metadata": {},
   "outputs": [
    {
     "data": {
      "text/plain": [
       "<matplotlib.axes._subplots.AxesSubplot at 0x1ab968dd808>"
      ]
     },
     "execution_count": 177,
     "metadata": {},
     "output_type": "execute_result"
    },
    {
     "data": {
      "image/png": "[encoded data removed]",
      "text/plain": [
       "<Figure size 432x288 with 1 Axes>"
      ]
     },
     "metadata": {
      "needs_background": "light"
     },
     "output_type": "display_data"
    }
   ],
   "source": [
    "sns.boxplot(data=df,x='Is_Internal')"
   ]
  },
  {
   "cell_type": "code",
   "execution_count": 178,
   "metadata": {},
   "outputs": [
    {
     "data": {
      "text/plain": [
       "<matplotlib.axes._subplots.AxesSubplot at 0x1ab9667fb08>"
      ]
     },
     "execution_count": 178,
     "metadata": {},
     "output_type": "execute_result"
    },
    {
     "data": {
      "image/png": "[encoded data removed]",
      "text/plain": [
       "<Figure size 432x288 with 1 Axes>"
      ]
     },
     "metadata": {
      "needs_background": "light"
     },
     "output_type": "display_data"
    }
   ],
   "source": [
    "sns.boxplot(data=df,x='Patch_Number')"
   ]
  },
  {
   "cell_type": "code",
   "execution_count": 179,
   "metadata": {},
   "outputs": [
    {
     "data": {
      "text/plain": [
       "<matplotlib.axes._subplots.AxesSubplot at 0x1ab94a1c1c8>"
      ]
     },
     "execution_count": 179,
     "metadata": {},
     "output_type": "execute_result"
    },
    {
     "data": {
      "image/png": "[encoded data removed]",
      "text/plain": [
       "<Figure size 432x288 with 1 Axes>"
      ]
     },
     "metadata": {
      "needs_background": "light"
     },
     "output_type": "display_data"
    }
   ],
   "source": [
    "sns.boxplot(data=df,x='No_of_agent_reassigns_till_date')"
   ]
  },
  {
   "cell_type": "code",
   "execution_count": 183,
   "metadata": {},
   "outputs": [
    {
     "data": {
      "text/plain": [
       "<matplotlib.axes._subplots.AxesSubplot at 0x1ab96a25148>"
      ]
     },
     "execution_count": 183,
     "metadata": {},
     "output_type": "execute_result"
    },
    {
     "data": {
      "image/png": "[encoded data removed]",
      "text/plain": [
       "<Figure size 432x288 with 1 Axes>"
      ]
     },
     "metadata": {
      "needs_background": "light"
     },
     "output_type": "display_data"
    }
   ],
   "source": [
    "sns.boxplot(data=df,x='Status_SLA_timer')"
   ]
  },
  {
   "cell_type": "code",
   "execution_count": 194,
   "metadata": {},
   "outputs": [
    {
     "data": {
      "text/html": [
       "<div>\n",
       "<style scoped>\n",
       "    .dataframe tbody tr th:only-of-type {\n",
       "        vertical-align: middle;\n",
       "    }\n",
       "\n",
       "    .dataframe tbody tr th {\n",
       "        vertical-align: top;\n",
       "    }\n",
       "\n",
       "    .dataframe thead th {\n",
       "        text-align: right;\n",
       "    }\n",
       "</style>\n",
       "<table border=\"1\" class=\"dataframe\">\n",
       "  <thead>\n",
       "    <tr style=\"text-align: right;\">\n",
       "      <th></th>\n",
       "      <th>Ticket_ID</th>\n",
       "      <th>Agent_reply_count</th>\n",
       "      <th>No_of_group_reassigns_till_date</th>\n",
       "      <th>No_of_times_reopened</th>\n",
       "      <th>Customer_reply_count</th>\n",
       "      <th>WP_Time</th>\n",
       "      <th>Is_Internal</th>\n",
       "      <th>Patch_Number</th>\n",
       "      <th>No_of_agent_reassigns_till_date</th>\n",
       "      <th>Product</th>\n",
       "      <th>Internal_group_name</th>\n",
       "      <th>Internal_agent_name</th>\n",
       "      <th>Status_SLA_timer</th>\n",
       "    </tr>\n",
       "  </thead>\n",
       "  <tbody>\n",
       "    <tr>\n",
       "      <td>Ticket_ID</td>\n",
       "      <td>1.000000</td>\n",
       "      <td>0.021132</td>\n",
       "      <td>-0.065954</td>\n",
       "      <td>-0.083007</td>\n",
       "      <td>0.003486</td>\n",
       "      <td>NaN</td>\n",
       "      <td>-0.042815</td>\n",
       "      <td>0.109107</td>\n",
       "      <td>-0.049655</td>\n",
       "      <td>NaN</td>\n",
       "      <td>NaN</td>\n",
       "      <td>NaN</td>\n",
       "      <td>-0.224497</td>\n",
       "    </tr>\n",
       "    <tr>\n",
       "      <td>Agent_reply_count</td>\n",
       "      <td>0.021132</td>\n",
       "      <td>1.000000</td>\n",
       "      <td>0.067730</td>\n",
       "      <td>0.243019</td>\n",
       "      <td>0.905776</td>\n",
       "      <td>NaN</td>\n",
       "      <td>-0.048838</td>\n",
       "      <td>0.009419</td>\n",
       "      <td>0.148801</td>\n",
       "      <td>NaN</td>\n",
       "      <td>NaN</td>\n",
       "      <td>NaN</td>\n",
       "      <td>0.036015</td>\n",
       "    </tr>\n",
       "    <tr>\n",
       "      <td>No_of_group_reassigns_till_date</td>\n",
       "      <td>-0.065954</td>\n",
       "      <td>0.067730</td>\n",
       "      <td>1.000000</td>\n",
       "      <td>0.106082</td>\n",
       "      <td>0.059120</td>\n",
       "      <td>NaN</td>\n",
       "      <td>-0.003494</td>\n",
       "      <td>-0.030037</td>\n",
       "      <td>0.018366</td>\n",
       "      <td>NaN</td>\n",
       "      <td>NaN</td>\n",
       "      <td>NaN</td>\n",
       "      <td>0.008609</td>\n",
       "    </tr>\n",
       "    <tr>\n",
       "      <td>No_of_times_reopened</td>\n",
       "      <td>-0.083007</td>\n",
       "      <td>0.243019</td>\n",
       "      <td>0.106082</td>\n",
       "      <td>1.000000</td>\n",
       "      <td>0.241169</td>\n",
       "      <td>NaN</td>\n",
       "      <td>-0.003511</td>\n",
       "      <td>-0.035094</td>\n",
       "      <td>0.061057</td>\n",
       "      <td>NaN</td>\n",
       "      <td>NaN</td>\n",
       "      <td>NaN</td>\n",
       "      <td>-0.027364</td>\n",
       "    </tr>\n",
       "    <tr>\n",
       "      <td>Customer_reply_count</td>\n",
       "      <td>0.003486</td>\n",
       "      <td>0.905776</td>\n",
       "      <td>0.059120</td>\n",
       "      <td>0.241169</td>\n",
       "      <td>1.000000</td>\n",
       "      <td>NaN</td>\n",
       "      <td>-0.035255</td>\n",
       "      <td>0.011440</td>\n",
       "      <td>0.172968</td>\n",
       "      <td>NaN</td>\n",
       "      <td>NaN</td>\n",
       "      <td>NaN</td>\n",
       "      <td>-0.023886</td>\n",
       "    </tr>\n",
       "    <tr>\n",
       "      <td>WP_Time</td>\n",
       "      <td>NaN</td>\n",
       "      <td>NaN</td>\n",
       "      <td>NaN</td>\n",
       "      <td>NaN</td>\n",
       "      <td>NaN</td>\n",
       "      <td>NaN</td>\n",
       "      <td>NaN</td>\n",
       "      <td>NaN</td>\n",
       "      <td>NaN</td>\n",
       "      <td>NaN</td>\n",
       "      <td>NaN</td>\n",
       "      <td>NaN</td>\n",
       "      <td>NaN</td>\n",
       "    </tr>\n",
       "    <tr>\n",
       "      <td>Is_Internal</td>\n",
       "      <td>-0.042815</td>\n",
       "      <td>-0.048838</td>\n",
       "      <td>-0.003494</td>\n",
       "      <td>-0.003511</td>\n",
       "      <td>-0.035255</td>\n",
       "      <td>NaN</td>\n",
       "      <td>1.000000</td>\n",
       "      <td>0.059573</td>\n",
       "      <td>-0.019437</td>\n",
       "      <td>NaN</td>\n",
       "      <td>NaN</td>\n",
       "      <td>NaN</td>\n",
       "      <td>0.016363</td>\n",
       "    </tr>\n",
       "    <tr>\n",
       "      <td>Patch_Number</td>\n",
       "      <td>0.109107</td>\n",
       "      <td>0.009419</td>\n",
       "      <td>-0.030037</td>\n",
       "      <td>-0.035094</td>\n",
       "      <td>0.011440</td>\n",
       "      <td>NaN</td>\n",
       "      <td>0.059573</td>\n",
       "      <td>1.000000</td>\n",
       "      <td>0.045653</td>\n",
       "      <td>NaN</td>\n",
       "      <td>NaN</td>\n",
       "      <td>NaN</td>\n",
       "      <td>-0.024797</td>\n",
       "    </tr>\n",
       "    <tr>\n",
       "      <td>No_of_agent_reassigns_till_date</td>\n",
       "      <td>-0.049655</td>\n",
       "      <td>0.148801</td>\n",
       "      <td>0.018366</td>\n",
       "      <td>0.061057</td>\n",
       "      <td>0.172968</td>\n",
       "      <td>NaN</td>\n",
       "      <td>-0.019437</td>\n",
       "      <td>0.045653</td>\n",
       "      <td>1.000000</td>\n",
       "      <td>NaN</td>\n",
       "      <td>NaN</td>\n",
       "      <td>NaN</td>\n",
       "      <td>-0.004125</td>\n",
       "    </tr>\n",
       "    <tr>\n",
       "      <td>Product</td>\n",
       "      <td>NaN</td>\n",
       "      <td>NaN</td>\n",
       "      <td>NaN</td>\n",
       "      <td>NaN</td>\n",
       "      <td>NaN</td>\n",
       "      <td>NaN</td>\n",
       "      <td>NaN</td>\n",
       "      <td>NaN</td>\n",
       "      <td>NaN</td>\n",
       "      <td>NaN</td>\n",
       "      <td>NaN</td>\n",
       "      <td>NaN</td>\n",
       "      <td>NaN</td>\n",
       "    </tr>\n",
       "    <tr>\n",
       "      <td>Internal_group_name</td>\n",
       "      <td>NaN</td>\n",
       "      <td>NaN</td>\n",
       "      <td>NaN</td>\n",
       "      <td>NaN</td>\n",
       "      <td>NaN</td>\n",
       "      <td>NaN</td>\n",
       "      <td>NaN</td>\n",
       "      <td>NaN</td>\n",
       "      <td>NaN</td>\n",
       "      <td>NaN</td>\n",
       "      <td>NaN</td>\n",
       "      <td>NaN</td>\n",
       "      <td>NaN</td>\n",
       "    </tr>\n",
       "    <tr>\n",
       "      <td>Internal_agent_name</td>\n",
       "      <td>NaN</td>\n",
       "      <td>NaN</td>\n",
       "      <td>NaN</td>\n",
       "      <td>NaN</td>\n",
       "      <td>NaN</td>\n",
       "      <td>NaN</td>\n",
       "      <td>NaN</td>\n",
       "      <td>NaN</td>\n",
       "      <td>NaN</td>\n",
       "      <td>NaN</td>\n",
       "      <td>NaN</td>\n",
       "      <td>NaN</td>\n",
       "      <td>NaN</td>\n",
       "    </tr>\n",
       "    <tr>\n",
       "      <td>Status_SLA_timer</td>\n",
       "      <td>-0.224497</td>\n",
       "      <td>0.036015</td>\n",
       "      <td>0.008609</td>\n",
       "      <td>-0.027364</td>\n",
       "      <td>-0.023886</td>\n",
       "      <td>NaN</td>\n",
       "      <td>0.016363</td>\n",
       "      <td>-0.024797</td>\n",
       "      <td>-0.004125</td>\n",
       "      <td>NaN</td>\n",
       "      <td>NaN</td>\n",
       "      <td>NaN</td>\n",
       "      <td>1.000000</td>\n",
       "    </tr>\n",
       "  </tbody>\n",
       "</table>\n",
       "</div>"
      ],
      "text/plain": [
       "                                 Ticket_ID  Agent_reply_count  \\\n",
       "Ticket_ID                         1.000000           0.021132   \n",
       "Agent_reply_count                 0.021132           1.000000   \n",
       "No_of_group_reassigns_till_date  -0.065954           0.067730   \n",
       "No_of_times_reopened             -0.083007           0.243019   \n",
       "Customer_reply_count              0.003486           0.905776   \n",
       "WP_Time                                NaN                NaN   \n",
       "Is_Internal                      -0.042815          -0.048838   \n",
       "Patch_Number                      0.109107           0.009419   \n",
       "No_of_agent_reassigns_till_date  -0.049655           0.148801   \n",
       "Product                                NaN                NaN   \n",
       "Internal_group_name                    NaN                NaN   \n",
       "Internal_agent_name                    NaN                NaN   \n",
       "Status_SLA_timer                 -0.224497           0.036015   \n",
       "\n",
       "                                 No_of_group_reassigns_till_date  \\\n",
       "Ticket_ID                                              -0.065954   \n",
       "Agent_reply_count                                       0.067730   \n",
       "No_of_group_reassigns_till_date                         1.000000   \n",
       "No_of_times_reopened                                    0.106082   \n",
       "Customer_reply_count                                    0.059120   \n",
       "WP_Time                                                      NaN   \n",
       "Is_Internal                                            -0.003494   \n",
       "Patch_Number                                           -0.030037   \n",
       "No_of_agent_reassigns_till_date                         0.018366   \n",
       "Product                                                      NaN   \n",
       "Internal_group_name                                          NaN   \n",
       "Internal_agent_name                                          NaN   \n",
       "Status_SLA_timer                                        0.008609   \n",
       "\n",
       "                                 No_of_times_reopened  Customer_reply_count  \\\n",
       "Ticket_ID                                   -0.083007              0.003486   \n",
       "Agent_reply_count                            0.243019              0.905776   \n",
       "No_of_group_reassigns_till_date              0.106082              0.059120   \n",
       "No_of_times_reopened                         1.000000              0.241169   \n",
       "Customer_reply_count                         0.241169              1.000000   \n",
       "WP_Time                                           NaN                   NaN   \n",
       "Is_Internal                                 -0.003511             -0.035255   \n",
       "Patch_Number                                -0.035094              0.011440   \n",
       "No_of_agent_reassigns_till_date              0.061057              0.172968   \n",
       "Product                                           NaN                   NaN   \n",
       "Internal_group_name                               NaN                   NaN   \n",
       "Internal_agent_name                               NaN                   NaN   \n",
       "Status_SLA_timer                            -0.027364             -0.023886   \n",
       "\n",
       "                                 WP_Time  Is_Internal  Patch_Number  \\\n",
       "Ticket_ID                            NaN    -0.042815      0.109107   \n",
       "Agent_reply_count                    NaN    -0.048838      0.009419   \n",
       "No_of_group_reassigns_till_date      NaN    -0.003494     -0.030037   \n",
       "No_of_times_reopened                 NaN    -0.003511     -0.035094   \n",
       "Customer_reply_count                 NaN    -0.035255      0.011440   \n",
       "WP_Time                              NaN          NaN           NaN   \n",
       "Is_Internal                          NaN     1.000000      0.059573   \n",
       "Patch_Number                         NaN     0.059573      1.000000   \n",
       "No_of_agent_reassigns_till_date      NaN    -0.019437      0.045653   \n",
       "Product                              NaN          NaN           NaN   \n",
       "Internal_group_name                  NaN          NaN           NaN   \n",
       "Internal_agent_name                  NaN          NaN           NaN   \n",
       "Status_SLA_timer                     NaN     0.016363     -0.024797   \n",
       "\n",
       "                                 No_of_agent_reassigns_till_date  Product  \\\n",
       "Ticket_ID                                              -0.049655      NaN   \n",
       "Agent_reply_count                                       0.148801      NaN   \n",
       "No_of_group_reassigns_till_date                         0.018366      NaN   \n",
       "No_of_times_reopened                                    0.061057      NaN   \n",
       "Customer_reply_count                                    0.172968      NaN   \n",
       "WP_Time                                                      NaN      NaN   \n",
       "Is_Internal                                            -0.019437      NaN   \n",
       "Patch_Number                                            0.045653      NaN   \n",
       "No_of_agent_reassigns_till_date                         1.000000      NaN   \n",
       "Product                                                      NaN      NaN   \n",
       "Internal_group_name                                          NaN      NaN   \n",
       "Internal_agent_name                                          NaN      NaN   \n",
       "Status_SLA_timer                                       -0.004125      NaN   \n",
       "\n",
       "                                 Internal_group_name  Internal_agent_name  \\\n",
       "Ticket_ID                                        NaN                  NaN   \n",
       "Agent_reply_count                                NaN                  NaN   \n",
       "No_of_group_reassigns_till_date                  NaN                  NaN   \n",
       "No_of_times_reopened                             NaN                  NaN   \n",
       "Customer_reply_count                             NaN                  NaN   \n",
       "WP_Time                                          NaN                  NaN   \n",
       "Is_Internal                                      NaN                  NaN   \n",
       "Patch_Number                                     NaN                  NaN   \n",
       "No_of_agent_reassigns_till_date                  NaN                  NaN   \n",
       "Product                                          NaN                  NaN   \n",
       "Internal_group_name                              NaN                  NaN   \n",
       "Internal_agent_name                              NaN                  NaN   \n",
       "Status_SLA_timer                                 NaN                  NaN   \n",
       "\n",
       "                                 Status_SLA_timer  \n",
       "Ticket_ID                               -0.224497  \n",
       "Agent_reply_count                        0.036015  \n",
       "No_of_group_reassigns_till_date          0.008609  \n",
       "No_of_times_reopened                    -0.027364  \n",
       "Customer_reply_count                    -0.023886  \n",
       "WP_Time                                       NaN  \n",
       "Is_Internal                              0.016363  \n",
       "Patch_Number                            -0.024797  \n",
       "No_of_agent_reassigns_till_date         -0.004125  \n",
       "Product                                       NaN  \n",
       "Internal_group_name                           NaN  \n",
       "Internal_agent_name                           NaN  \n",
       "Status_SLA_timer                         1.000000  "
      ]
     },
     "execution_count": 194,
     "metadata": {},
     "output_type": "execute_result"
    }
   ],
   "source": [
    "df.corr()"
   ]
  },
  {
   "cell_type": "code",
   "execution_count": 195,
   "metadata": {},
   "outputs": [
    {
     "data": {
      "text/plain": [
       "<matplotlib.axes._subplots.AxesSubplot at 0x1ab967085c8>"
      ]
     },
     "execution_count": 195,
     "metadata": {},
     "output_type": "execute_result"
    },
    {
     "data": {
      "image/png": "[encoded data removed]",
      "text/plain": [
       "<Figure size 432x288 with 2 Axes>"
      ]
     },
     "metadata": {
      "needs_background": "light"
     },
     "output_type": "display_data"
    }
   ],
   "source": [
    "sns.heatmap(df.corr())"
   ]
  },
  {
   "cell_type": "code",
   "execution_count": 201,
   "metadata": {},
   "outputs": [
    {
     "data": {
      "text/html": [
       "<div>\n",
       "<style scoped>\n",
       "    .dataframe tbody tr th:only-of-type {\n",
       "        vertical-align: middle;\n",
       "    }\n",
       "\n",
       "    .dataframe tbody tr th {\n",
       "        vertical-align: top;\n",
       "    }\n",
       "\n",
       "    .dataframe thead th {\n",
       "        text-align: right;\n",
       "    }\n",
       "</style>\n",
       "<table border=\"1\" class=\"dataframe\">\n",
       "  <thead>\n",
       "    <tr style=\"text-align: right;\">\n",
       "      <th></th>\n",
       "      <th>Closed_date</th>\n",
       "      <th>Ticket_ID</th>\n",
       "      <th>Agent_name</th>\n",
       "      <th>Status</th>\n",
       "      <th>Priority</th>\n",
       "      <th>Source</th>\n",
       "      <th>Resolution_due_by</th>\n",
       "      <th>Association_type</th>\n",
       "      <th>Ticket_type</th>\n",
       "      <th>First_assign_time_in_calendar_hours</th>\n",
       "      <th>...</th>\n",
       "      <th>Last_updated_agent</th>\n",
       "      <th>First_assigned_agent</th>\n",
       "      <th>Status_SLA_timer</th>\n",
       "      <th>Tickets_resolved_within_FCR</th>\n",
       "      <th>Tickets_resolved_within_SLA</th>\n",
       "      <th>Tickets_first_responded_within_SLA</th>\n",
       "      <th>Tickets_Age</th>\n",
       "      <th>First_response_group</th>\n",
       "      <th>First_response_agent</th>\n",
       "      <th>Tag_name</th>\n",
       "    </tr>\n",
       "  </thead>\n",
       "  <tbody>\n",
       "    <tr>\n",
       "      <td>0</td>\n",
       "      <td>2019-04-11 14:41:00</td>\n",
       "      <td>24</td>\n",
       "      <td>NaN</td>\n",
       "      <td>Closed</td>\n",
       "      <td>low</td>\n",
       "      <td>Email</td>\n",
       "      <td>2019-12-20 14:33:00</td>\n",
       "      <td>NaN</td>\n",
       "      <td>General Query</td>\n",
       "      <td>42s</td>\n",
       "      <td>...</td>\n",
       "      <td>NaN</td>\n",
       "      <td>Agent 15</td>\n",
       "      <td>True</td>\n",
       "      <td>Non Violated</td>\n",
       "      <td>Non Violated</td>\n",
       "      <td>Violated</td>\n",
       "      <td>1d 0h 0m 0s</td>\n",
       "      <td>NaN</td>\n",
       "      <td>Agent 15</td>\n",
       "      <td>1st assesement required</td>\n",
       "    </tr>\n",
       "    <tr>\n",
       "      <td>1</td>\n",
       "      <td>2019-04-15 12:40:00</td>\n",
       "      <td>26</td>\n",
       "      <td>NaN</td>\n",
       "      <td>Closed</td>\n",
       "      <td>low</td>\n",
       "      <td>Email</td>\n",
       "      <td>2019-12-23 14:59:00</td>\n",
       "      <td>NaN</td>\n",
       "      <td>General Query</td>\n",
       "      <td>3m 21s</td>\n",
       "      <td>...</td>\n",
       "      <td>NaN</td>\n",
       "      <td>Agent 5</td>\n",
       "      <td>True</td>\n",
       "      <td>Violated</td>\n",
       "      <td>Non Violated</td>\n",
       "      <td>Non Violated</td>\n",
       "      <td>0s</td>\n",
       "      <td>NaN</td>\n",
       "      <td>NaN</td>\n",
       "      <td>1st assesement required</td>\n",
       "    </tr>\n",
       "    <tr>\n",
       "      <td>2</td>\n",
       "      <td>2019-04-15 13:10:00</td>\n",
       "      <td>27</td>\n",
       "      <td>NaN</td>\n",
       "      <td>Closed</td>\n",
       "      <td>low</td>\n",
       "      <td>Email</td>\n",
       "      <td>2019-12-23 14:49:00</td>\n",
       "      <td>NaN</td>\n",
       "      <td>General Query</td>\n",
       "      <td>22m 8s</td>\n",
       "      <td>...</td>\n",
       "      <td>NaN</td>\n",
       "      <td>Agent 15</td>\n",
       "      <td>True</td>\n",
       "      <td>Non Violated</td>\n",
       "      <td>Non Violated</td>\n",
       "      <td>Non Violated</td>\n",
       "      <td>0s</td>\n",
       "      <td>NaN</td>\n",
       "      <td>Agent 15</td>\n",
       "      <td>1st assesement required</td>\n",
       "    </tr>\n",
       "    <tr>\n",
       "      <td>3</td>\n",
       "      <td>2019-04-15 13:13:00</td>\n",
       "      <td>25</td>\n",
       "      <td>NaN</td>\n",
       "      <td>Closed</td>\n",
       "      <td>low</td>\n",
       "      <td>Email</td>\n",
       "      <td>2019-12-23 14:46:00</td>\n",
       "      <td>NaN</td>\n",
       "      <td>General Query</td>\n",
       "      <td>NaN</td>\n",
       "      <td>...</td>\n",
       "      <td>NaN</td>\n",
       "      <td>NaN</td>\n",
       "      <td>True</td>\n",
       "      <td>Non Violated</td>\n",
       "      <td>Non Violated</td>\n",
       "      <td>Non Violated</td>\n",
       "      <td>0s</td>\n",
       "      <td>NaN</td>\n",
       "      <td>NaN</td>\n",
       "      <td>1st assesement required</td>\n",
       "    </tr>\n",
       "    <tr>\n",
       "      <td>4</td>\n",
       "      <td>2019-04-15 14:52:00</td>\n",
       "      <td>28</td>\n",
       "      <td>NaN</td>\n",
       "      <td>Closed</td>\n",
       "      <td>low</td>\n",
       "      <td>Email</td>\n",
       "      <td>2019-12-23 13:58:00</td>\n",
       "      <td>NaN</td>\n",
       "      <td>General Query</td>\n",
       "      <td>17m 7s</td>\n",
       "      <td>...</td>\n",
       "      <td>Agent 10</td>\n",
       "      <td>Agent 5</td>\n",
       "      <td>True</td>\n",
       "      <td>Violated</td>\n",
       "      <td>Non Violated</td>\n",
       "      <td>Non Violated</td>\n",
       "      <td>0s</td>\n",
       "      <td>NaN</td>\n",
       "      <td>Agent 5</td>\n",
       "      <td>EUREKA1,1st assesement required</td>\n",
       "    </tr>\n",
       "    <tr>\n",
       "      <td>...</td>\n",
       "      <td>...</td>\n",
       "      <td>...</td>\n",
       "      <td>...</td>\n",
       "      <td>...</td>\n",
       "      <td>...</td>\n",
       "      <td>...</td>\n",
       "      <td>...</td>\n",
       "      <td>...</td>\n",
       "      <td>...</td>\n",
       "      <td>...</td>\n",
       "      <td>...</td>\n",
       "      <td>...</td>\n",
       "      <td>...</td>\n",
       "      <td>...</td>\n",
       "      <td>...</td>\n",
       "      <td>...</td>\n",
       "      <td>...</td>\n",
       "      <td>...</td>\n",
       "      <td>...</td>\n",
       "      <td>...</td>\n",
       "      <td>...</td>\n",
       "    </tr>\n",
       "    <tr>\n",
       "      <td>3825</td>\n",
       "      <td>NaT</td>\n",
       "      <td>5701</td>\n",
       "      <td>Lukas Linek</td>\n",
       "      <td>Open</td>\n",
       "      <td>low</td>\n",
       "      <td>Portal</td>\n",
       "      <td>2021-08-30 17:00:00</td>\n",
       "      <td>NaN</td>\n",
       "      <td>Other Request</td>\n",
       "      <td>4h 55m 48s</td>\n",
       "      <td>...</td>\n",
       "      <td>NaN</td>\n",
       "      <td>Agent 13</td>\n",
       "      <td>False</td>\n",
       "      <td>Non Violated</td>\n",
       "      <td>Non Violated</td>\n",
       "      <td>Non Violated</td>\n",
       "      <td>0s</td>\n",
       "      <td>NaN</td>\n",
       "      <td>NaN</td>\n",
       "      <td>NaN</td>\n",
       "    </tr>\n",
       "    <tr>\n",
       "      <td>3826</td>\n",
       "      <td>NaT</td>\n",
       "      <td>5702</td>\n",
       "      <td>Ismail Mohd Baroja</td>\n",
       "      <td>Pending</td>\n",
       "      <td>low</td>\n",
       "      <td>Email</td>\n",
       "      <td>2021-08-30 17:00:00</td>\n",
       "      <td>NaN</td>\n",
       "      <td>NaN</td>\n",
       "      <td>2h 14m 49s</td>\n",
       "      <td>...</td>\n",
       "      <td>NaN</td>\n",
       "      <td>Agent 6</td>\n",
       "      <td>True</td>\n",
       "      <td>Non Violated</td>\n",
       "      <td>Non Violated</td>\n",
       "      <td>Non Violated</td>\n",
       "      <td>0s</td>\n",
       "      <td>Support - STE VT1 (APAC)</td>\n",
       "      <td>Agent 6</td>\n",
       "      <td>Top Customer,TC6000</td>\n",
       "    </tr>\n",
       "    <tr>\n",
       "      <td>3827</td>\n",
       "      <td>NaT</td>\n",
       "      <td>5703</td>\n",
       "      <td>Ismail Mohd Baroja</td>\n",
       "      <td>Open</td>\n",
       "      <td>low</td>\n",
       "      <td>Email</td>\n",
       "      <td>2021-08-30 17:00:00</td>\n",
       "      <td>NaN</td>\n",
       "      <td>NaN</td>\n",
       "      <td>25m 4s</td>\n",
       "      <td>...</td>\n",
       "      <td>NaN</td>\n",
       "      <td>Agent 6</td>\n",
       "      <td>False</td>\n",
       "      <td>Non Violated</td>\n",
       "      <td>Non Violated</td>\n",
       "      <td>Non Violated</td>\n",
       "      <td>0s</td>\n",
       "      <td>Support - STE VT1 (APAC)</td>\n",
       "      <td>Agent 6</td>\n",
       "      <td>TC6000,Top Customer</td>\n",
       "    </tr>\n",
       "    <tr>\n",
       "      <td>3828</td>\n",
       "      <td>NaT</td>\n",
       "      <td>5704</td>\n",
       "      <td>Ismail Mohd Baroja</td>\n",
       "      <td>Pending</td>\n",
       "      <td>low</td>\n",
       "      <td>Email</td>\n",
       "      <td>2021-08-30 17:00:00</td>\n",
       "      <td>NaN</td>\n",
       "      <td>NaN</td>\n",
       "      <td>42m 3s</td>\n",
       "      <td>...</td>\n",
       "      <td>NaN</td>\n",
       "      <td>Agent 6</td>\n",
       "      <td>True</td>\n",
       "      <td>Non Violated</td>\n",
       "      <td>Non Violated</td>\n",
       "      <td>Non Violated</td>\n",
       "      <td>0s</td>\n",
       "      <td>Support</td>\n",
       "      <td>Agent 6</td>\n",
       "      <td>Top Customer,TC6000</td>\n",
       "    </tr>\n",
       "    <tr>\n",
       "      <td>3829</td>\n",
       "      <td>NaT</td>\n",
       "      <td>5708</td>\n",
       "      <td>Mark Dillon</td>\n",
       "      <td>Pending</td>\n",
       "      <td>medium</td>\n",
       "      <td>Portal</td>\n",
       "      <td>2021-06-25 17:00:00</td>\n",
       "      <td>NaN</td>\n",
       "      <td>Product Query</td>\n",
       "      <td>1h 21m 4s</td>\n",
       "      <td>...</td>\n",
       "      <td>NaN</td>\n",
       "      <td>Agent 14</td>\n",
       "      <td>True</td>\n",
       "      <td>Non Violated</td>\n",
       "      <td>Non Violated</td>\n",
       "      <td>Non Violated</td>\n",
       "      <td>0s</td>\n",
       "      <td>Support - STE VT 4 (Wholesale)</td>\n",
       "      <td>Agent 14</td>\n",
       "      <td>NaN</td>\n",
       "    </tr>\n",
       "  </tbody>\n",
       "</table>\n",
       "<p>3830 rows × 55 columns</p>\n",
       "</div>"
      ],
      "text/plain": [
       "             Closed_date  Ticket_ID          Agent_name   Status Priority  \\\n",
       "0    2019-04-11 14:41:00         24                 NaN   Closed      low   \n",
       "1    2019-04-15 12:40:00         26                 NaN   Closed      low   \n",
       "2    2019-04-15 13:10:00         27                 NaN   Closed      low   \n",
       "3    2019-04-15 13:13:00         25                 NaN   Closed      low   \n",
       "4    2019-04-15 14:52:00         28                 NaN   Closed      low   \n",
       "...                  ...        ...                 ...      ...      ...   \n",
       "3825                 NaT       5701         Lukas Linek     Open      low   \n",
       "3826                 NaT       5702  Ismail Mohd Baroja  Pending      low   \n",
       "3827                 NaT       5703  Ismail Mohd Baroja     Open      low   \n",
       "3828                 NaT       5704  Ismail Mohd Baroja  Pending      low   \n",
       "3829                 NaT       5708         Mark Dillon  Pending   medium   \n",
       "\n",
       "      Source   Resolution_due_by Association_type    Ticket_type  \\\n",
       "0      Email 2019-12-20 14:33:00              NaN  General Query   \n",
       "1      Email 2019-12-23 14:59:00              NaN  General Query   \n",
       "2      Email 2019-12-23 14:49:00              NaN  General Query   \n",
       "3      Email 2019-12-23 14:46:00              NaN  General Query   \n",
       "4      Email 2019-12-23 13:58:00              NaN  General Query   \n",
       "...      ...                 ...              ...            ...   \n",
       "3825  Portal 2021-08-30 17:00:00              NaN  Other Request   \n",
       "3826   Email 2021-08-30 17:00:00              NaN            NaN   \n",
       "3827   Email 2021-08-30 17:00:00              NaN            NaN   \n",
       "3828   Email 2021-08-30 17:00:00              NaN            NaN   \n",
       "3829  Portal 2021-06-25 17:00:00              NaN  Product Query   \n",
       "\n",
       "     First_assign_time_in_calendar_hours  ... Last_updated_agent  \\\n",
       "0                                    42s  ...                NaN   \n",
       "1                                 3m 21s  ...                NaN   \n",
       "2                                 22m 8s  ...                NaN   \n",
       "3                                    NaN  ...                NaN   \n",
       "4                                 17m 7s  ...           Agent 10   \n",
       "...                                  ...  ...                ...   \n",
       "3825                          4h 55m 48s  ...                NaN   \n",
       "3826                          2h 14m 49s  ...                NaN   \n",
       "3827                              25m 4s  ...                NaN   \n",
       "3828                              42m 3s  ...                NaN   \n",
       "3829                           1h 21m 4s  ...                NaN   \n",
       "\n",
       "     First_assigned_agent Status_SLA_timer Tickets_resolved_within_FCR  \\\n",
       "0                Agent 15             True                Non Violated   \n",
       "1                 Agent 5             True                    Violated   \n",
       "2                Agent 15             True                Non Violated   \n",
       "3                     NaN             True                Non Violated   \n",
       "4                 Agent 5             True                    Violated   \n",
       "...                   ...              ...                         ...   \n",
       "3825             Agent 13            False                Non Violated   \n",
       "3826              Agent 6             True                Non Violated   \n",
       "3827              Agent 6            False                Non Violated   \n",
       "3828              Agent 6             True                Non Violated   \n",
       "3829             Agent 14             True                Non Violated   \n",
       "\n",
       "     Tickets_resolved_within_SLA Tickets_first_responded_within_SLA  \\\n",
       "0                   Non Violated                           Violated   \n",
       "1                   Non Violated                       Non Violated   \n",
       "2                   Non Violated                       Non Violated   \n",
       "3                   Non Violated                       Non Violated   \n",
       "4                   Non Violated                       Non Violated   \n",
       "...                          ...                                ...   \n",
       "3825                Non Violated                       Non Violated   \n",
       "3826                Non Violated                       Non Violated   \n",
       "3827                Non Violated                       Non Violated   \n",
       "3828                Non Violated                       Non Violated   \n",
       "3829                Non Violated                       Non Violated   \n",
       "\n",
       "      Tickets_Age            First_response_group First_response_agent  \\\n",
       "0     1d 0h 0m 0s                             NaN             Agent 15   \n",
       "1              0s                             NaN                  NaN   \n",
       "2              0s                             NaN             Agent 15   \n",
       "3              0s                             NaN                  NaN   \n",
       "4              0s                             NaN              Agent 5   \n",
       "...           ...                             ...                  ...   \n",
       "3825           0s                             NaN                  NaN   \n",
       "3826           0s        Support - STE VT1 (APAC)              Agent 6   \n",
       "3827           0s        Support - STE VT1 (APAC)              Agent 6   \n",
       "3828           0s                         Support              Agent 6   \n",
       "3829           0s  Support - STE VT 4 (Wholesale)             Agent 14   \n",
       "\n",
       "                             Tag_name  \n",
       "0             1st assesement required  \n",
       "1             1st assesement required  \n",
       "2             1st assesement required  \n",
       "3             1st assesement required  \n",
       "4     EUREKA1,1st assesement required  \n",
       "...                               ...  \n",
       "3825                              NaN  \n",
       "3826              Top Customer,TC6000  \n",
       "3827              TC6000,Top Customer  \n",
       "3828              Top Customer,TC6000  \n",
       "3829                              NaN  \n",
       "\n",
       "[3830 rows x 55 columns]"
      ]
     },
     "execution_count": 201,
     "metadata": {},
     "output_type": "execute_result"
    }
   ],
   "source": [
    "df.drop(labels=['Product', 'Internal_group_name', 'Internal_agent_name'], axis=1)"
   ]
  },
  {
   "cell_type": "code",
   "execution_count": 202,
   "metadata": {},
   "outputs": [
    {
     "data": {
      "text/plain": [
       "Index(['Closed_date', 'Ticket_ID', 'Agent_name', 'Status', 'Priority',\n",
       "       'Source', 'Resolution_due_by', 'Association_type', 'Ticket_type',\n",
       "       'First_assign_time_in_calendar_hours', 'First_assigned_date', 'Subject',\n",
       "       'First_response_time_in_calendar_hours', 'Cause_of_Issue',\n",
       "       'First_response_time_in_business_hours', 'Created_date',\n",
       "       'Resolution_time_in_calendar_hours', 'SSA_role',\n",
       "       'Resolution_time_in_business_hours', 'Release', 'First_response_due_by',\n",
       "       'Agent_reply_count', 'No_of_group_reassigns_till_date',\n",
       "       'No_of_times_reopened', 'Customer_reply_count', 'Last_updated_date',\n",
       "       'Last_assigned_date', 'WP', 'Resolved_date', 'First_response_date',\n",
       "       'WP_Time', 'First_assign_time_in_business_hours', 'Product_Type',\n",
       "       'Is_Internal', 'Patch_Number', 'No_of_agent_reassigns_till_date',\n",
       "       'Requester_Name', 'Requester_language', 'Agent_language',\n",
       "       'Agent_timezone', 'Requester_Type', 'Company_name', 'Group_name',\n",
       "       'Assign_type', 'Product', 'Internal_group_name', 'First_assigned_group',\n",
       "       'Last_updated_agent', 'Internal_agent_name', 'First_assigned_agent',\n",
       "       'Status_SLA_timer', 'Tickets_resolved_within_FCR',\n",
       "       'Tickets_resolved_within_SLA', 'Tickets_first_responded_within_SLA',\n",
       "       'Tickets_Age', 'First_response_group', 'First_response_agent',\n",
       "       'Tag_name'],\n",
       "      dtype='object')"
      ]
     },
     "execution_count": 202,
     "metadata": {},
     "output_type": "execute_result"
    }
   ],
   "source": [
    "df.columns"
   ]
  },
  {
   "cell_type": "code",
   "execution_count": null,
   "metadata": {},
   "outputs": [],
   "source": []
  }
 ],
 "metadata": {
  "kernelspec": {
   "display_name": "Python 3",
   "language": "python",
   "name": "python3"
  },
  "language_info": {
   "codemirror_mode": {
    "name": "ipython",
    "version": 3
   },
   "file_extension": ".py",
   "mimetype": "text/x-python",
   "name": "python",
   "nbconvert_exporter": "python",
   "pygments_lexer": "ipython3",
   "version": "3.7.4"
  }
 },
 "nbformat": 4,
 "nbformat_minor": 2
}
